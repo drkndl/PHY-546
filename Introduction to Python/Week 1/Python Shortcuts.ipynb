{
 "cells": [
  {
   "cell_type": "markdown",
   "metadata": {},
   "source": [
    "Source for these fantastic shortcuts: http://www.maxburstein.com/blog/python-shortcuts-for-the-python-beginner/\n",
    "\n",
    "\n",
    "### Swapping Variables\n"
   ]
  },
  {
   "cell_type": "code",
   "execution_count": 1,
   "metadata": {},
   "outputs": [
    {
     "name": "stdout",
     "output_type": "stream",
     "text": [
      "6 5\n"
     ]
    }
   ],
   "source": [
    "x = 5\n",
    "y = 6\n",
    "x, y = y, x\n",
    "print(x, y)"
   ]
  },
  {
   "cell_type": "markdown",
   "metadata": {},
   "source": [
    "### Inline if Statement\n"
   ]
  },
  {
   "cell_type": "code",
   "execution_count": 2,
   "metadata": {},
   "outputs": [
    {
     "name": "stdout",
     "output_type": "stream",
     "text": [
      "True\n"
     ]
    }
   ],
   "source": [
    "print(True) if 2==2 else print(False)"
   ]
  },
  {
   "cell_type": "markdown",
   "metadata": {},
   "source": [
    "### Concatenations\n"
   ]
  },
  {
   "cell_type": "code",
   "execution_count": 5,
   "metadata": {},
   "outputs": [
    {
     "name": "stdout",
     "output_type": "stream",
     "text": [
      "['Harry', 'Potter', 'Ronald', 'Weasley']\n",
      "1 Hermione\n",
      "1 Draco\n",
      "['Ronald', 'Weasley'] 2\n"
     ]
    }
   ],
   "source": [
    "main = [\"Harry\", \"Potter\"]\n",
    "side = [\"Ronald\", \"Weasley\"]\n",
    "print(main + side)\n",
    "\n",
    "print(str(1) + \" Hermione\")\n",
    "\n",
    "print('1' + \" Draco\")\n",
    "\n",
    "print(side, 2)"
   ]
  },
  {
   "cell_type": "markdown",
   "metadata": {},
   "source": [
    "### Floating point Division"
   ]
  },
  {
   "cell_type": "code",
   "execution_count": 9,
   "metadata": {},
   "outputs": [
    {
     "name": "stdout",
     "output_type": "stream",
     "text": [
      "1\n",
      "1.5\n",
      "1.5\n",
      "2.9999999999999996\n",
      "2.0\n"
     ]
    }
   ],
   "source": [
    "print(3//2)\n",
    "\n",
    "print(3/2)\n",
    "\n",
    "print(3./2)\n",
    "\n",
    "print(.3/.1)\n",
    "\n",
    "print(.3//.1) #Holy shit!"
   ]
  },
  {
   "cell_type": "markdown",
   "metadata": {},
   "source": [
    "### Numerical Comparison"
   ]
  },
  {
   "cell_type": "code",
   "execution_count": 11,
   "metadata": {},
   "outputs": [
    {
     "name": "stdout",
     "output_type": "stream",
     "text": [
      "True\n",
      "True\n"
     ]
    }
   ],
   "source": [
    "a = 2\n",
    "\n",
    "if 3 > a > 1.5:\n",
    "    print(True)\n",
    "    \n",
    "print(True) if 1 < a > 0 else print(False)"
   ]
  },
  {
   "cell_type": "markdown",
   "metadata": {},
   "source": [
    "### Iterate through Two Lists at the Same Time"
   ]
  },
  {
   "cell_type": "code",
   "execution_count": 14,
   "metadata": {},
   "outputs": [
    {
     "name": "stdout",
     "output_type": "stream",
     "text": [
      "Hufflepuff vs Gryffindor\n",
      "Ravenclaw vs Slytherin\n",
      "Hufflepuff vs Ilvermorny\n",
      "Ravenclaw vs Durmstrang\n"
     ]
    }
   ],
   "source": [
    "teams1 = [\"Hufflepuff\", \"Ravenclaw\"]\n",
    "teams2 = [\"Gryffindor\", \"Slytherin\"]\n",
    "\n",
    "for team1, team2 in zip(teams1, teams2):\n",
    "    print(team1 + \" vs \" + team2)\n",
    "    \n",
    "teams3 = ['Ilvermorny', 'Durmstrang', 'Hogwarts']\n",
    "\n",
    "for team1, team2 in zip(teams1, teams3):\n",
    "    print(team1 + \" vs \" + team2)\n",
    "    \n",
    "#Works for uneven list sizes as well!"
   ]
  },
  {
   "cell_type": "markdown",
   "metadata": {},
   "source": [
    "### Iterate through List with an Index"
   ]
  },
  {
   "cell_type": "code",
   "execution_count": 16,
   "metadata": {},
   "outputs": [
    {
     "name": "stdout",
     "output_type": "stream",
     "text": [
      "0 Ilvermorny\n",
      "1 Durmstrang\n",
      "2 Hogwarts\n"
     ]
    }
   ],
   "source": [
    "for index, team in enumerate(teams3):\n",
    "    print(index, team)"
   ]
  },
  {
   "cell_type": "markdown",
   "metadata": {},
   "source": [
    "### List Comprehension"
   ]
  },
  {
   "cell_type": "code",
   "execution_count": 18,
   "metadata": {},
   "outputs": [
    {
     "name": "stdout",
     "output_type": "stream",
     "text": [
      "[1, 3, 5, 7, 9]\n",
      "[1, 3, 5, 7, 9]\n"
     ]
    }
   ],
   "source": [
    "#The hard way\n",
    "odd = []\n",
    "for i in range(1,11):\n",
    "    if i%2 != 0:\n",
    "        odd.append(i)\n",
    "        \n",
    "print(odd)\n",
    "\n",
    "#The easy way\n",
    "odd_easy = [number for number in range(1,11) if number%2 !=0]\n",
    "print(odd_easy)"
   ]
  },
  {
   "cell_type": "markdown",
   "metadata": {},
   "source": [
    "### Dictionary Comprehension"
   ]
  },
  {
   "cell_type": "code",
   "execution_count": 31,
   "metadata": {},
   "outputs": [
    {
     "name": "stdout",
     "output_type": "stream",
     "text": [
      "{'Ilvermorny': 0, 'Durmstrang': 1, 'Hogwarts': 2}\n"
     ]
    }
   ],
   "source": [
    "teams_dict = {team : index for index, team in enumerate(teams3)}\n",
    "print(teams_dict)"
   ]
  },
  {
   "cell_type": "markdown",
   "metadata": {},
   "source": [
    "### Convert a List to a String"
   ]
  },
  {
   "cell_type": "code",
   "execution_count": 32,
   "metadata": {},
   "outputs": [
    {
     "name": "stdout",
     "output_type": "stream",
     "text": [
      "Ilvermorny; Durmstrang; Hogwarts\n"
     ]
    }
   ],
   "source": [
    "all_teams = \"; \".join(teams3)\n",
    "print(all_teams)"
   ]
  },
  {
   "cell_type": "markdown",
   "metadata": {},
   "source": [
    "### Get Item from Dictionary"
   ]
  },
  {
   "cell_type": "code",
   "execution_count": 34,
   "metadata": {},
   "outputs": [
    {
     "name": "stdout",
     "output_type": "stream",
     "text": [
      "None\n",
      "Nah\n",
      "0\n"
     ]
    }
   ],
   "source": [
    "is_beaux = teams_dict.get('Beauxbatons')\n",
    "print(is_beaux)\n",
    "\n",
    "beaux = teams_dict.get('Beauxbatons', 'Nah')\n",
    "print(beaux)\n",
    "\n",
    "ilver = teams_dict.get('Ilvermorny', 'Nope')\n",
    "print(ilver)"
   ]
  },
  {
   "cell_type": "markdown",
   "metadata": {},
   "source": [
    "### FizzBuzz in 60 Characters"
   ]
  },
  {
   "cell_type": "code",
   "execution_count": 48,
   "metadata": {},
   "outputs": [
    {
     "name": "stdout",
     "output_type": "stream",
     "text": [
      "Fizz\n",
      "\n",
      "\n",
      "1\n",
      "\n",
      "2\n",
      "Fizz\n",
      "3\n",
      "\n",
      "4\n",
      "Buzz\n",
      "5\n",
      "Fizz\n",
      "6\n",
      "\n",
      "7\n",
      "\n",
      "8\n",
      "Fizz\n",
      "9\n",
      "Buzz\n",
      "10\n",
      "\n",
      "11\n",
      "Fizz\n",
      "12\n",
      "\n",
      "13\n",
      "\n",
      "14\n",
      "FizzBuzz\n",
      "15\n"
     ]
    }
   ],
   "source": [
    "n = 6\n",
    "print(\"Fizz\"[n%3*4:])\n",
    "\n",
    "t = 'Hello'*0\n",
    "print(t)\n",
    "\n",
    "for x in range(1,16):\n",
    "    print(\"Fizz\"[x%3*4:] + \"Buzz\"[x%5*4:]) or print(x) "
   ]
  },
  {
   "cell_type": "markdown",
   "metadata": {},
   "source": [
    "### Collections"
   ]
  },
  {
   "cell_type": "code",
   "execution_count": 52,
   "metadata": {},
   "outputs": [
    {
     "name": "stdout",
     "output_type": "stream",
     "text": [
      "Counter({'r': 3, 't': 2, 'h': 1, 'a': 1, 'y': 1, ' ': 1, 'p': 1, 'o': 1, 'e': 1})\n",
      "3\n"
     ]
    }
   ],
   "source": [
    "from collections import Counter\n",
    "\n",
    "print(Counter(\"harry potter\"))\n",
    "\n",
    "adict = Counter(\"harry potter\")\n",
    "print(adict['r'])\n",
    "\n",
    "#Holy shit!"
   ]
  },
  {
   "cell_type": "markdown",
   "metadata": {},
   "source": [
    "### Itertools"
   ]
  },
  {
   "cell_type": "code",
   "execution_count": 57,
   "metadata": {},
   "outputs": [
    {
     "name": "stdout",
     "output_type": "stream",
     "text": [
      "('Ilvermorny', 'Durmstrang')\n",
      "('Ilvermorny', 'Hogwarts')\n",
      "('Durmstrang', 'Hogwarts')\n",
      "('Ilvermorny', 'Durmstrang', 'Hogwarts')\n"
     ]
    }
   ],
   "source": [
    "from itertools import combinations\n",
    "\n",
    "for game in combinations(teams3, 2):\n",
    "    print(game)\n",
    "for game in combinations(teams3, 3):    \n",
    "    print(game)"
   ]
  },
  {
   "cell_type": "markdown",
   "metadata": {},
   "source": [
    "### False == True"
   ]
  },
  {
   "cell_type": "code",
   "execution_count": 59,
   "metadata": {},
   "outputs": [
    {
     "ename": "SyntaxError",
     "evalue": "can't assign to keyword (<ipython-input-59-cbb7016f5ebd>, line 1)",
     "output_type": "error",
     "traceback": [
      "\u001b[1;36m  File \u001b[1;32m\"<ipython-input-59-cbb7016f5ebd>\"\u001b[1;36m, line \u001b[1;32m1\u001b[0m\n\u001b[1;33m    False = True\u001b[0m\n\u001b[1;37m                ^\u001b[0m\n\u001b[1;31mSyntaxError\u001b[0m\u001b[1;31m:\u001b[0m can't assign to keyword\n"
     ]
    }
   ],
   "source": [
    "False = True\n",
    "\n",
    "print(\"Works!\") if False else print(\"False\")\n",
    "\n",
    "#Okay, so this does not work in Python3."
   ]
  },
  {
   "cell_type": "code",
   "execution_count": null,
   "metadata": {},
   "outputs": [],
   "source": []
  }
 ],
 "metadata": {
  "kernelspec": {
   "display_name": "Python 3",
   "language": "python",
   "name": "python3"
  },
  "language_info": {
   "codemirror_mode": {
    "name": "ipython",
    "version": 3
   },
   "file_extension": ".py",
   "mimetype": "text/x-python",
   "name": "python",
   "nbconvert_exporter": "python",
   "pygments_lexer": "ipython3",
   "version": "3.7.6"
  }
 },
 "nbformat": 4,
 "nbformat_minor": 4
}
